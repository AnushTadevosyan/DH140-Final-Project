{
 "cells": [
  {
   "cell_type": "markdown",
   "id": "a5fcbbb4",
   "metadata": {},
   "source": [
    "# Introduction\n",
    "\n",
    "For this project, I have chosen to work with the dataset that contains information about various crimes in US states for a wide range of years\n",
    "\n",
    "Link to Dataset: https://corgis-edu.github.io/corgis/csv/state_crime/\n",
    "\n",
    "I have chosen this dataset as I was always interested in crime stories, documentaries and statistics. I am curious to see what I can find!\n",
    "\n",
    "Questions I'm looking to answer for this project based on my dataset\n",
    "- For each state, what is the most common type of crime commited for every year given in the dataset? How has this changed over the years?\n",
    "- Which state has X type of crime committed the most?  How has this changed over the years?\n",
    "- How did overall crime rate change per state over time?\n",
    "\n"
   ]
  },
  {
   "cell_type": "markdown",
   "id": "a6c9eb07",
   "metadata": {},
   "source": [
    "# Data Presentation & Exploration\n",
    "\n",
    "**Basic Information**: The dataset classify crimes into two groups: property & violent crime.Property crime refers to burglary, larceny, and motor related crime while violent crime refers to assault, murder, rape, and robbery. These reports go from 1960 to 2019. With this in mind, let's understand and explore our data."
   ]
  },
  {
   "cell_type": "markdown",
   "id": "2f2a05d1",
   "metadata": {},
   "source": [
    "The dataset has 21 columns and 3115 rows. We can see that the years of data goes from 1960 to 2019. We can also see that half of data is for years 1990-2019. If we look at overall rate of the two major types of crimes (property & violent)\n",
    "\n",
    "It should include at least 4 exploratory data visualizations"
   ]
  },
  {
   "cell_type": "code",
   "execution_count": null,
   "id": "f51edd75",
   "metadata": {},
   "outputs": [],
   "source": [
    "import pandas as pd\n",
    "\n",
    "crime_data = pd.read_csv('/home/jovyan/DH140-Final-Project/state_crime.csv')\n"
   ]
  },
  {
   "cell_type": "code",
   "execution_count": null,
   "id": "f55daa8b",
   "metadata": {},
   "outputs": [],
   "source": [
    "#total data summary\n",
    "crime_data.describe()"
   ]
  },
  {
   "cell_type": "code",
   "execution_count": null,
   "id": "5358a26d",
   "metadata": {},
   "outputs": [],
   "source": [
    "#first major crime group summary: property\n",
    "crime_data['Data.Totals.Property.All'].describe()"
   ]
  },
  {
   "cell_type": "code",
   "execution_count": null,
   "id": "020f2e45",
   "metadata": {},
   "outputs": [],
   "source": [
    "#second major crime group summary: property\n",
    "crime_data['Data.Totals.Violent.All'].describe()"
   ]
  },
  {
   "cell_type": "markdown",
   "id": "fc0d3d85",
   "metadata": {},
   "source": [
    "**Descriptive Statistics**: We can clearly see that the number of violent crimes over a period of time,\n",
    "over all the states is higher than the number of property crimes"
   ]
  },
  {
   "cell_type": "code",
   "execution_count": null,
   "id": "8039ce57",
   "metadata": {},
   "outputs": [],
   "source": [
    "crime_data.corr()"
   ]
  },
  {
   "cell_type": "markdown",
   "id": "df3f8348",
   "metadata": {},
   "source": [
    "**Correlations**: To-Do"
   ]
  },
  {
   "cell_type": "code",
   "execution_count": null,
   "id": "30222449",
   "metadata": {},
   "outputs": [],
   "source": [
    "missing_values_cd = crime_data.isnull()\n",
    "missing_values_count = missing_values_cd.sum()\n",
    "print(missing_values_count)"
   ]
  },
  {
   "cell_type": "markdown",
   "id": "bb60af40",
   "metadata": {},
   "source": [
    "**Missing Values**: We can see that we have no missing values in our dataset by the result of the above cell!"
   ]
  },
  {
   "cell_type": "markdown",
   "id": "cbf3d8a5",
   "metadata": {},
   "source": [
    "**Encoding Categorical Values**: "
   ]
  },
  {
   "cell_type": "markdown",
   "id": "60120895",
   "metadata": {},
   "source": [
    "**Data Disrtibution & Outliers**: We can see that OUTLIERS IN BOX PLOT OR SCATTER PLOT"
   ]
  },
  {
   "cell_type": "markdown",
   "id": "88dbae4c",
   "metadata": {},
   "source": [
    "# Analysis\n",
    "\n",
    "This section also does not need to be polished yet, but it should be a good foundation\n",
    "This should include code for data analysis directly relevant to your question(s) of interest\n",
    "Include an additional 4 data visualizations that are directly relevant to your topic \n",
    "Or describe 4 data visualizations that you want to make"
   ]
  }
 ],
 "metadata": {
  "kernelspec": {
   "display_name": "Python 3 (ipykernel)",
   "language": "python",
   "name": "python3"
  },
  "language_info": {
   "codemirror_mode": {
    "name": "ipython",
    "version": 3
   },
   "file_extension": ".py",
   "mimetype": "text/x-python",
   "name": "python",
   "nbconvert_exporter": "python",
   "pygments_lexer": "ipython3",
   "version": "3.10.11"
  }
 },
 "nbformat": 4,
 "nbformat_minor": 5
}
